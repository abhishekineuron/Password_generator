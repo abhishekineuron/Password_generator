{
 "cells": [
  {
   "cell_type": "markdown",
   "id": "77933cf8-f488-41c3-ba0d-b180c5693545",
   "metadata": {},
   "source": [
    "### Assignment"
   ]
  },
  {
   "cell_type": "code",
   "execution_count": 6,
   "id": "5bb6ce24-05be-4568-a37d-dbe6722c4f38",
   "metadata": {},
   "outputs": [
    {
     "ename": "ModuleNotFoundError",
     "evalue": "No module named 'flask_cors'",
     "output_type": "error",
     "traceback": [
      "\u001b[1;31m---------------------------------------------------------------------------\u001b[0m",
      "\u001b[1;31mModuleNotFoundError\u001b[0m                       Traceback (most recent call last)",
      "Cell \u001b[1;32mIn[6], line 2\u001b[0m\n\u001b[0;32m      1\u001b[0m \u001b[39mfrom\u001b[39;00m \u001b[39mflask\u001b[39;00m \u001b[39mimport\u001b[39;00m Flask, render_template, request, jsonify\n\u001b[1;32m----> 2\u001b[0m \u001b[39mfrom\u001b[39;00m \u001b[39mflask_cors\u001b[39;00m \u001b[39mimport\u001b[39;00m CORS,cross_origin\n\u001b[0;32m      3\u001b[0m \u001b[39mimport\u001b[39;00m \u001b[39mlogging\u001b[39;00m\n\u001b[0;32m      4\u001b[0m \u001b[39mimport\u001b[39;00m \u001b[39mos\u001b[39;00m\n",
      "\u001b[1;31mModuleNotFoundError\u001b[0m: No module named 'flask_cors'"
     ]
    }
   ],
   "source": [
    "from flask import Flask, render_template, request, jsonify\n",
    "from flask_cors import CORS,cross_origin\n",
    "import logging\n",
    "import os\n",
    "import requests\n",
    "import re\n",
    "import pandas as pd\n",
    "\n",
    "\n"
   ]
  },
  {
   "cell_type": "code",
   "execution_count": 2,
   "id": "041b168e-7a55-40de-98e3-24f7f68ffeff",
   "metadata": {},
   "outputs": [
    {
     "ename": "NameError",
     "evalue": "name 'requests' is not defined",
     "output_type": "error",
     "traceback": [
      "\u001b[1;31m---------------------------------------------------------------------------\u001b[0m",
      "\u001b[1;31mNameError\u001b[0m                                 Traceback (most recent call last)",
      "Cell \u001b[1;32mIn[2], line 5\u001b[0m\n\u001b[0;32m      2\u001b[0m url \u001b[39m=\u001b[39m \u001b[39mf\u001b[39m\u001b[39m'\u001b[39m\u001b[39mhttps://www.youtube.com/@\u001b[39m\u001b[39m{\u001b[39;00minput_text\u001b[39m}\u001b[39;00m\u001b[39m/videos\u001b[39m\u001b[39m'\u001b[39m\n\u001b[0;32m      4\u001b[0m headers \u001b[39m=\u001b[39m {\u001b[39m\"\u001b[39m\u001b[39mUser-Agent\u001b[39m\u001b[39m\"\u001b[39m: \u001b[39m\"\u001b[39m\u001b[39mMozilla/5.0 (Windows NT 10.0; Win64; x64) AppleWebKit/537.36 (KHTML, like Gecko) Chrome/58.0.3029.110 Safari/537.36\u001b[39m\u001b[39m\"\u001b[39m}\n\u001b[1;32m----> 5\u001b[0m response \u001b[39m=\u001b[39m requests\u001b[39m.\u001b[39mget(url, headers\u001b[39m=\u001b[39mheaders)\n\u001b[0;32m      6\u001b[0m \u001b[39mprint\u001b[39m(response\u001b[39m.\u001b[39mstatus_code)\n\u001b[0;32m      7\u001b[0m response_text \u001b[39m=\u001b[39m response\u001b[39m.\u001b[39mtext\n",
      "\u001b[1;31mNameError\u001b[0m: name 'requests' is not defined"
     ]
    }
   ],
   "source": [
    "input_text = 'PW-Foundation'\n",
    "url = f'https://www.youtube.com/@{input_text}/videos'\n",
    "\n",
    "headers = {\"User-Agent\": \"Mozilla/5.0 (Windows NT 10.0; Win64; x64) AppleWebKit/537.36 (KHTML, like Gecko) Chrome/58.0.3029.110 Safari/537.36\"}\n",
    "response = requests.get(url, headers=headers)\n",
    "print(response.status_code)\n",
    "response_text = response.text\n"
   ]
  },
  {
   "cell_type": "code",
   "execution_count": 3,
   "id": "9965e5a1-39e3-4b0b-b7da-61e70d73dba3",
   "metadata": {},
   "outputs": [
    {
     "ename": "NameError",
     "evalue": "name 're' is not defined",
     "output_type": "error",
     "traceback": [
      "\u001b[1;31m---------------------------------------------------------------------------\u001b[0m",
      "\u001b[1;31mNameError\u001b[0m                                 Traceback (most recent call last)",
      "Cell \u001b[1;32mIn[3], line 1\u001b[0m\n\u001b[1;32m----> 1\u001b[0m vid_titles \u001b[39m=\u001b[39m re\u001b[39m.\u001b[39mfindall(\u001b[39m'\u001b[39m\u001b[39m\"\u001b[39m\u001b[39mtitle\u001b[39m\u001b[39m\"\u001b[39m\u001b[39m:\u001b[39m\u001b[39m{\u001b[39m\u001b[39m\"\u001b[39m\u001b[39mruns\u001b[39m\u001b[39m\"\u001b[39m\u001b[39m:\u001b[39m\u001b[39m\\\u001b[39m\u001b[39m[\u001b[39m\u001b[39m{\u001b[39m\u001b[39m\"\u001b[39m\u001b[39mtext\u001b[39m\u001b[39m\"\u001b[39m\u001b[39m:\u001b[39m\u001b[39m\"\u001b[39m\u001b[39m.*?\u001b[39m\u001b[39m\"\u001b[39m\u001b[39m'\u001b[39m, response_text)\n",
      "\u001b[1;31mNameError\u001b[0m: name 're' is not defined"
     ]
    }
   ],
   "source": [
    "vid_titles = re.findall('\"title\":{\"runs\":\\[{\"text\":\".*?\"', response_text)"
   ]
  },
  {
   "cell_type": "code",
   "execution_count": 4,
   "id": "d7203412-7694-437a-8fbe-9bf81f251b43",
   "metadata": {},
   "outputs": [
    {
     "ename": "NameError",
     "evalue": "name 'vid_titles' is not defined",
     "output_type": "error",
     "traceback": [
      "\u001b[1;31m---------------------------------------------------------------------------\u001b[0m",
      "\u001b[1;31mNameError\u001b[0m                                 Traceback (most recent call last)",
      "Cell \u001b[1;32mIn[4], line 1\u001b[0m\n\u001b[1;32m----> 1\u001b[0m vid_titles \n",
      "\u001b[1;31mNameError\u001b[0m: name 'vid_titles' is not defined"
     ]
    }
   ],
   "source": [
    "vid_titles "
   ]
  },
  {
   "cell_type": "code",
   "execution_count": 5,
   "id": "79d032e6-3b94-4268-af6b-4fa0ccf9ca55",
   "metadata": {},
   "outputs": [
    {
     "ename": "NameError",
     "evalue": "name 're' is not defined",
     "output_type": "error",
     "traceback": [
      "\u001b[1;31m---------------------------------------------------------------------------\u001b[0m",
      "\u001b[1;31mNameError\u001b[0m                                 Traceback (most recent call last)",
      "Cell \u001b[1;32mIn[5], line 1\u001b[0m\n\u001b[1;32m----> 1\u001b[0m vid_thumbnails \u001b[39m=\u001b[39m re\u001b[39m.\u001b[39mfindall(\u001b[39mr\u001b[39m\u001b[39m\"\u001b[39m\u001b[39mhttps://i.ytimg.com/vi/[A-Za-z0-9_-]\u001b[39m\u001b[39m{11}\u001b[39;00m\u001b[39m/[A-Za-z0-9_]\u001b[39m\u001b[39m{9}\u001b[39;00m\u001b[39m.jpg\u001b[39m\u001b[39m\"\u001b[39m, response_text)\n\u001b[0;32m      2\u001b[0m vid_thumbnails\n",
      "\u001b[1;31mNameError\u001b[0m: name 're' is not defined"
     ]
    }
   ],
   "source": [
    "vid_thumbnails = re.findall(r\"https://i.ytimg.com/vi/[A-Za-z0-9_-]{11}/[A-Za-z0-9_]{9}.jpg\", response_text)\n",
    "vid_thumbnails"
   ]
  },
  {
   "cell_type": "code",
   "execution_count": 16,
   "id": "c19cbe66-0ad7-4441-94fa-bbfc7f4289e6",
   "metadata": {},
   "outputs": [
    {
     "data": {
      "text/plain": [
       "[]"
      ]
     },
     "execution_count": 16,
     "metadata": {},
     "output_type": "execute_result"
    }
   ],
   "source": [
    "vid_links = re.findall(r\"watch\\?v=[A-Za-z0-9_-]{11}\", response_text)\n",
    "vid_links"
   ]
  },
  {
   "cell_type": "code",
   "execution_count": 17,
   "id": "7b7a4326-776d-485f-a541-edca2978e69e",
   "metadata": {},
   "outputs": [
    {
     "data": {
      "text/plain": [
       "re.compile(r'[0-9]+(\\.[0-9]+)?[a-zA-Z]*K views', re.UNICODE)"
      ]
     },
     "execution_count": 17,
     "metadata": {},
     "output_type": "execute_result"
    }
   ],
   "source": [
    "pattern3 = re.compile(r\"[0-9]+(\\.[0-9]+)?[a-zA-Z]*K views\")  # view count\n",
    "pattern3"
   ]
  },
  {
   "cell_type": "code",
   "execution_count": 18,
   "id": "013f76cc-3bd2-452a-a216-966e8616d9d5",
   "metadata": {},
   "outputs": [
    {
     "data": {
      "text/plain": [
       "re.compile(r'\\d+ (minutes|hours|hour|days|day|weeks|week|years|year) ago',\n",
       "           re.UNICODE)"
      ]
     },
     "execution_count": 18,
     "metadata": {},
     "output_type": "execute_result"
    }
   ],
   "source": [
    "pattern4 = re.compile(r\"\\d+ (minutes|hours|hour|days|day|weeks|week|years|year) ago\")  # vedio age\n",
    "pattern4"
   ]
  },
  {
   "cell_type": "code",
   "execution_count": 19,
   "id": "cb420799-e2ac-49a7-bf55-97d10957642c",
   "metadata": {},
   "outputs": [],
   "source": [
    "matches1 = pattern3.finditer(response_text)\n",
    "matches2 = pattern4.finditer(response_text)"
   ]
  },
  {
   "cell_type": "code",
   "execution_count": 20,
   "id": "da255cde-089a-4f53-9878-67ea14539815",
   "metadata": {},
   "outputs": [],
   "source": [
    "vid_viewcounts=[]\n",
    "vid_ages=[]\n",
    "count = 0\n",
    "for match1,match2 in zip(matches1,matches2):\n",
    "    vid_ages.append(match2[0])\n",
    "    vid_viewcounts.append(match1[0])"
   ]
  },
  {
   "cell_type": "code",
   "execution_count": 21,
   "id": "1378f99c-894f-45a3-9606-e2243ff96481",
   "metadata": {},
   "outputs": [
    {
     "data": {
      "text/plain": [
       "[]"
      ]
     },
     "execution_count": 21,
     "metadata": {},
     "output_type": "execute_result"
    }
   ],
   "source": [
    "titles = vid_titles[0:10]\n",
    "thumbnails = list(dict.fromkeys(vid_thumbnails))\n",
    "links = vid_links[0:10]\n",
    "viewcounts=vid_viewcounts[0:20:2]\n",
    "ages=vid_ages[0:20:2]\n",
    "\n",
    "details_list=[]\n",
    "\n",
    "for title,thumbnail,link,viewcount,age in zip(titles,thumbnails,links,viewcounts,ages):\n",
    "    details_dict={\n",
    "    \"title\":title.split('\"')[-2], \"thumbnail\": thumbnail, \"link\": \"https://www.youtube.com/\"+link,\n",
    "    \"viewcount\": viewcount, \"age\": age\n",
    "    }\n",
    "    details_list.append(details_dict)\n",
    "\n",
    "\n",
    "\n",
    "details_list"
   ]
  },
  {
   "cell_type": "code",
   "execution_count": 22,
   "id": "7ccc367a-750f-47e0-a091-75445031a564",
   "metadata": {},
   "outputs": [],
   "source": [
    "df = pd.DataFrame(details_list)\n",
    "df.to_csv('YTscrapData.csv', index=False)"
   ]
  },
  {
   "cell_type": "code",
   "execution_count": null,
   "id": "9654d367-435d-4711-bcc4-20a299158c7f",
   "metadata": {},
   "outputs": [],
   "source": []
  }
 ],
 "metadata": {
  "kernelspec": {
   "display_name": "Python 3 (ipykernel)",
   "language": "python",
   "name": "python3"
  },
  "language_info": {
   "codemirror_mode": {
    "name": "ipython",
    "version": 3
   },
   "file_extension": ".py",
   "mimetype": "text/x-python",
   "name": "python",
   "nbconvert_exporter": "python",
   "pygments_lexer": "ipython3",
   "version": "3.11.2"
  },
  "vscode": {
   "interpreter": {
    "hash": "e7370f93d1d0cde622a1f8e1c04877d8463912d04d973331ad4851f04de6915a"
   }
  }
 },
 "nbformat": 4,
 "nbformat_minor": 5
}
